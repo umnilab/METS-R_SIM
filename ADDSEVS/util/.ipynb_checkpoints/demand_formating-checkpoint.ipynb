{
 "cells": [
  {
   "cell_type": "code",
   "execution_count": 1,
   "id": "5b1d5b30-ccf2-4f7f-9c76-2b29ff11f2eb",
   "metadata": {},
   "outputs": [],
   "source": [
    "import json\n",
    "import pandas\n",
    "import numpy as np"
   ]
  },
  {
   "cell_type": "code",
   "execution_count": 4,
   "id": "0caecccc-63cd-4883-ad87-e835702ef87c",
   "metadata": {},
   "outputs": [
    {
     "data": {
      "text/plain": [
       "(4356, 48)"
      ]
     },
     "execution_count": 4,
     "metadata": {},
     "output_type": "execute_result"
    }
   ],
   "source": [
    "# From csv to json for METS-R project (hub-based) demand file\n",
    "filename = 'demand_2020_04_01_manhattan.csv' #'../data/NYC/demand/scenario1/demand_2019-12-09.csv'\n",
    "\n",
    "df = np.loadtxt(filename, delimiter=',')\n",
    "\n",
    "df.shape"
   ]
  },
  {
   "cell_type": "code",
   "execution_count": 6,
   "id": "d8930a38-bc50-4223-8bcc-4a3c3b63a328",
   "metadata": {},
   "outputs": [],
   "source": [
    "NUM_OF_ZONE = 66 #258\n",
    "# HUB_INDEXES = [131,140,180]"
   ]
  },
  {
   "cell_type": "code",
   "execution_count": 7,
   "id": "be94e983-718f-4e8c-a306-6a8fb25441f1",
   "metadata": {},
   "outputs": [],
   "source": [
    "res = dict()\n",
    "\n",
    "# hub to other places (including to itself)\n",
    "for i in range(NUM_OF_ZONE):\n",
    "    for j in range(NUM_OF_ZONE):\n",
    "        res[str((i, j))] = df[i * NUM_OF_ZONE + j].tolist()"
   ]
  },
  {
   "cell_type": "code",
   "execution_count": 9,
   "id": "bd4fcdf4-ad6e-4a27-b1b5-f49b87a0d2af",
   "metadata": {},
   "outputs": [],
   "source": [
    "with open(\"../data/NYC/demand/demand_2020_04_01_manhattan.json\", 'w') as f:\n",
    "    json.dump(res, f)"
   ]
  },
  {
   "cell_type": "code",
   "execution_count": null,
   "id": "9d3a1f2e-5449-47a5-87a0-6704c567a182",
   "metadata": {},
   "outputs": [],
   "source": []
  }
 ],
 "metadata": {
  "kernelspec": {
   "display_name": "Python 3 (ipykernel)",
   "language": "python",
   "name": "python3"
  },
  "language_info": {
   "codemirror_mode": {
    "name": "ipython",
    "version": 3
   },
   "file_extension": ".py",
   "mimetype": "text/x-python",
   "name": "python",
   "nbconvert_exporter": "python",
   "pygments_lexer": "ipython3",
   "version": "3.8.0"
  }
 },
 "nbformat": 4,
 "nbformat_minor": 5
}
